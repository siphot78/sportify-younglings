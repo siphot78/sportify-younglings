{
  "nbformat": 4,
  "nbformat_minor": 0,
  "metadata": {
    "colab": {
      "name": "Untitled2.ipynb",
      "provenance": [],
      "collapsed_sections": [],
      "authorship_tag": "ABX9TyN/VT3XoEFF/bwB+uI4hpsC",
      "include_colab_link": true
    },
    "kernelspec": {
      "display_name": "Python 3",
      "name": "python3"
    },
    "language_info": {
      "name": "python"
    }
  },
  "cells": [
    {
      "cell_type": "markdown",
      "metadata": {
        "id": "view-in-github",
        "colab_type": "text"
      },
      "source": [
        "<a href=\"https://colab.research.google.com/github/siphot78/sportify-younglings/blob/main/Sipho%20Tywele%20Interview%20plan.ipynb\" target=\"_parent\"><img src=\"https://colab.research.google.com/assets/colab-badge.svg\" alt=\"Open In Colab\"/></a>"
      ]
    },
    {
      "cell_type": "code",
      "metadata": {
        "colab": {
          "base_uri": "https://localhost:8080/"
        },
        "id": "C4nTatHe3F1K",
        "outputId": "3a00d4a4-0c9d-4c20-df37-ca7a8c43f576"
      },
      "source": [
        "import requests\n",
        "import socket\n",
        "import base64\n",
        "import datetime\n",
        "from urllib.parse import urlencode\n",
        "client_id =\"84444062c3f84d9f8035a813dd17a4f5\"\n",
        "client_secret = \"df4a59fceeef474a88f6a7a70f3384be\"\n",
        "\n",
        "class SpotifyAPI(object):\n",
        "    access_token = None\n",
        "    access_token_expires = datetime.datetime.now()\n",
        "    access_token_did_expire = True\n",
        "    client_id = None\n",
        "    client_secret = None\n",
        "    token_url = \"https://accounts.spotify.com/api/token\"\n",
        "    \n",
        "    def __init__(self, client_id, client_secret, *args, **kwargs):\n",
        "        super().__init__(*args, **kwargs)\n",
        "        self.client_id = client_id\n",
        "        self.client_secret = client_secret\n",
        "\n",
        "    def get_client_credentials(self):\n",
        "        \"\"\"\n",
        "        Returns a base64 encoded string\n",
        "        \"\"\"\n",
        "        client_id = self.client_id\n",
        "        client_secret = self.client_secret\n",
        "        if client_secret == None or client_id == None:\n",
        "            raise Exception(\"You must set client_id and client_secret\")\n",
        "        client_creds = f\"{client_id}:{client_secret}\"\n",
        "        client_creds_b64 = base64.b64encode(client_creds.encode())\n",
        "        return client_creds_b64.decode()\n",
        "    \n",
        "    def get_token_headers(self):\n",
        "        client_creds_b64 = self.get_client_credentials()\n",
        "        return {\n",
        "            \"Authorization\": f\"Basic {client_creds_b64}\"\n",
        "        }\n",
        "    \n",
        "    def get_token_data(self):\n",
        "        return {\n",
        "            \"grant_type\": \"client_credentials\"\n",
        "        } \n",
        "    \n",
        "    def perform_auth(self):\n",
        "        token_url = self.token_url\n",
        "        token_data = self.get_token_data()\n",
        "        token_headers = self.get_token_headers()\n",
        "        r = requests.post(token_url, data=token_data, headers=token_headers)\n",
        "        if r.status_code not in range(200, 299):\n",
        "            return False\n",
        "        data = r.json()\n",
        "        now = datetime.datetime.now()\n",
        "        access_token = data['access_token']\n",
        "        expires_in = data['expires_in'] # seconds\n",
        "        expires = now + datetime.timedelta(seconds=expires_in)\n",
        "        self.access_token = access_token\n",
        "        self.access_token_expires = expires\n",
        "        self.access_token_did_expire = expires < now\n",
        "        return True\n",
        "hostname = socket.gethostname()\n",
        "local_ip = socket.gethostbyname(hostname)\n",
        "sima = requests.get(\"http://ip-api.com/json/\", json=[\n",
        "    {\"query\":local_ip}]).json()\n",
        "city = sima['city']\n",
        "api = \"b77e07f479efe92156376a8b07640ced\"\n",
        "url = \"https://api.openweathermap.org/data/2.5/weather?q={}&appid={}&units=metric\".format(city, api)\n",
        "\n",
        "\n",
        "november = requests.get(url).json()\n",
        "\n",
        "temp = november['main']\n",
        "temps = temp['temp']\n",
        "print(temps)"
      ],
      "execution_count": null,
      "outputs": [
        {
          "output_type": "stream",
          "text": [
            "22.46\n"
          ],
          "name": "stdout"
        }
      ]
    },
    {
      "cell_type": "code",
      "metadata": {
        "id": "RcE3jSVl-CVn"
      },
      "source": [
        "\n",
        "spotify = SpotifyAPI(client_id, client_secret)"
      ],
      "execution_count": null,
      "outputs": []
    },
    {
      "cell_type": "code",
      "metadata": {
        "colab": {
          "base_uri": "https://localhost:8080/"
        },
        "id": "Bngr_fiY_gYC",
        "outputId": "ec415678-a0a2-4d83-fdc8-1e5e817301d5"
      },
      "source": [
        "spotify.perform_auth()"
      ],
      "execution_count": null,
      "outputs": [
        {
          "output_type": "execute_result",
          "data": {
            "text/plain": [
              "True"
            ]
          },
          "metadata": {
            "tags": []
          },
          "execution_count": 3
        }
      ]
    },
    {
      "cell_type": "code",
      "metadata": {
        "id": "AAU-_JxtAGnu",
        "colab": {
          "base_uri": "https://localhost:8080/",
          "height": 35
        },
        "outputId": "af31ecc3-50b1-406a-9e4c-e1aba667cf65"
      },
      "source": [
        "\n",
        "access_token = spotify.access_token\n",
        "access_token"
      ],
      "execution_count": null,
      "outputs": [
        {
          "output_type": "execute_result",
          "data": {
            "application/vnd.google.colaboratory.intrinsic+json": {
              "type": "string"
            },
            "text/plain": [
              "'BQBWEAId_6mjAgq1F3R7vbgeb-VJEjnCPqOUy_H3dKia58bq4HQ1gQ9HnD3MXMq8Wfdczu8TAeMtT9tD62s'"
            ]
          },
          "metadata": {
            "tags": []
          },
          "execution_count": 4
        }
      ]
    },
    {
      "cell_type": "code",
      "metadata": {
        "colab": {
          "base_uri": "https://localhost:8080/"
        },
        "id": "q5QnomML_oWP",
        "outputId": "5987e389-3563-4ca8-fc28-2a97cf24c9f0"
      },
      "source": [
        "if temps>30:\n",
        "  category_Id = \"party\" \n",
        "if 15<=temps<= 30:\n",
        "   category_Id = \"pop\" \n",
        "if 10<=temps<=15:\n",
        "   category_Id = \"rock\" \n",
        "if temps<10:\n",
        "   category_Id = \"classical\" \n",
        "endpoint = \"https://api.spotify.com/v1/browse/categories/{}/playlists\".format(category_Id)\n",
        "headers = {\n",
        "    \"Authorization\": f\"Bearer {access_token}\"\n",
        "}\n",
        "data = urlencode({\"q\": \"Time\", \"type\": \"track\"})\n",
        "print(data)\n",
        "\n",
        "lookup_url = f\"{endpoint}?{data}\"\n",
        "print(lookup_url)\n",
        "r = requests.get(lookup_url, headers=headers)\n",
        "print(r.status_code)\n"
      ],
      "execution_count": null,
      "outputs": [
        {
          "output_type": "stream",
          "text": [
            "q=Time&type=track\n",
            "https://api.spotify.com/v1/browse/categories/pop/playlists?q=Time&type=track\n",
            "200\n"
          ],
          "name": "stdout"
        }
      ]
    },
    {
      "cell_type": "code",
      "metadata": {
        "colab": {
          "base_uri": "https://localhost:8080/"
        },
        "id": "TKXZaVHEKJiH",
        "outputId": "ae8b3d0a-a49d-44ae-e876-74a1dd4be1d6"
      },
      "source": [
        "r.json()"
      ],
      "execution_count": null,
      "outputs": [
        {
          "output_type": "execute_result",
          "data": {
            "text/plain": [
              "{'playlists': {'href': 'https://api.spotify.com/v1/browse/categories/pop/playlists?offset=0&limit=20',\n",
              "  'items': [{'collaborative': False,\n",
              "    'description': 'The Kid LAROI & Justin Bieber are on top of the Hottest 50!',\n",
              "    'external_urls': {'spotify': 'https://open.spotify.com/playlist/37i9dQZF1DXcBWIGoYBM5M'},\n",
              "    'href': 'https://api.spotify.com/v1/playlists/37i9dQZF1DXcBWIGoYBM5M',\n",
              "    'id': '37i9dQZF1DXcBWIGoYBM5M',\n",
              "    'images': [{'height': None,\n",
              "      'url': 'https://i.scdn.co/image/ab67706f00000003e44d74d9b63b37ce1d2d4053',\n",
              "      'width': None}],\n",
              "    'name': \"Today's Top Hits\",\n",
              "    'owner': {'display_name': 'Spotify',\n",
              "     'external_urls': {'spotify': 'https://open.spotify.com/user/spotify'},\n",
              "     'href': 'https://api.spotify.com/v1/users/spotify',\n",
              "     'id': 'spotify',\n",
              "     'type': 'user',\n",
              "     'uri': 'spotify:user:spotify'},\n",
              "    'primary_color': None,\n",
              "    'public': None,\n",
              "    'snapshot_id': 'MTYyNjc3NjMyMSwwMDAwMDRjODAwMDAwMTdhYzM2Y2JjYjMwMDAwMDE3YWFjZGViYmMx',\n",
              "    'tracks': {'href': 'https://api.spotify.com/v1/playlists/37i9dQZF1DXcBWIGoYBM5M/tracks',\n",
              "     'total': 50},\n",
              "    'type': 'playlist',\n",
              "    'uri': 'spotify:playlist:37i9dQZF1DXcBWIGoYBM5M'},\n",
              "   {'collaborative': False,\n",
              "    'description': 'The hits of tomorrow are on Spotify today. Cover: Normani',\n",
              "    'external_urls': {'spotify': 'https://open.spotify.com/playlist/37i9dQZF1DWUa8ZRTfalHk'},\n",
              "    'href': 'https://api.spotify.com/v1/playlists/37i9dQZF1DWUa8ZRTfalHk',\n",
              "    'id': '37i9dQZF1DWUa8ZRTfalHk',\n",
              "    'images': [{'height': None,\n",
              "      'url': 'https://i.scdn.co/image/ab67706f000000039de22e075d66bf1e6654a34a',\n",
              "      'width': None}],\n",
              "    'name': 'Pop Rising',\n",
              "    'owner': {'display_name': 'Spotify',\n",
              "     'external_urls': {'spotify': 'https://open.spotify.com/user/spotify'},\n",
              "     'href': 'https://api.spotify.com/v1/users/spotify',\n",
              "     'id': 'spotify',\n",
              "     'type': 'user',\n",
              "     'uri': 'spotify:user:spotify'},\n",
              "    'primary_color': None,\n",
              "    'public': None,\n",
              "    'snapshot_id': 'MTYyNjc3NjM4MSwwMDAwMDU0MjAwMDAwMTdhYzM2ZGE3MWUwMDAwMDE3YWFjZTBjN2Rl',\n",
              "    'tracks': {'href': 'https://api.spotify.com/v1/playlists/37i9dQZF1DWUa8ZRTfalHk/tracks',\n",
              "     'total': 86},\n",
              "    'type': 'playlist',\n",
              "    'uri': 'spotify:playlist:37i9dQZF1DWUa8ZRTfalHk'}],\n",
              "  'limit': 20,\n",
              "  'next': None,\n",
              "  'offset': 0,\n",
              "  'previous': None,\n",
              "  'total': 2}}"
            ]
          },
          "metadata": {
            "tags": []
          },
          "execution_count": 6
        }
      ]
    }
  ]
}